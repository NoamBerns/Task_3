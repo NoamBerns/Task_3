{
 "cells": [
  {
   "cell_type": "code",
   "execution_count": 19,
   "id": "fb101111-3a32-4cd9-92ab-7403bd6c595f",
   "metadata": {},
   "outputs": [],
   "source": [
    "import requests\n",
    "import pandas as pd\n",
    "import math"
   ]
  },
  {
   "cell_type": "code",
   "execution_count": 4,
   "id": "d65ed0fc-196b-4719-ad40-a0fb81607588",
   "metadata": {},
   "outputs": [],
   "source": [
    "with open('dests.txt', 'r') as file:destinations = [line.strip() for line in file.readlines()]\n",
    "df = pd.DataFrame(columns=['Target', 'Distance_km', 'Duration', 'Longitude', 'Latitude'])\n",
    "distance_endpoint = 'https://maps.googleapis.com/maps/api/distancematrix/json'\n",
    "geocode_endpoint = 'https://maps.googleapis.com/maps/api/geocode/json'\n",
    "api_key = \"\""
   ]
  },
  {
   "cell_type": "markdown",
   "id": "b9ac3e16-cbf5-4338-b035-0fde43b74c4a",
   "metadata": {},
   "source": [
    "## Creates the data frame"
   ]
  },
  {
   "cell_type": "code",
   "execution_count": 37,
   "id": "bf15ede9-4fb3-452b-8b45-03479490dd6b",
   "metadata": {},
   "outputs": [],
   "source": [
    "df = pd.DataFrame(columns=['Target', 'Distance_km', 'Duration', 'Longitude', 'Latitude'])"
   ]
  },
  {
   "cell_type": "markdown",
   "id": "ceee2a80-dabb-40d8-8abb-d06c83b9cb13",
   "metadata": {},
   "source": [
    "## 1.Geocode the destination to retrieve the latitude and longitud\n",
    "## 2.Calculate the distance and duration from Tel Aviv to the destination\n",
    "## 3.Creating times in hours and minutes\n",
    "## 4. Append the information to the dataframe\n"
   ]
  },
  {
   "cell_type": "code",
   "execution_count": 38,
   "id": "b9625936-0470-4800-a762-2a1ef66b0a65",
   "metadata": {},
   "outputs": [],
   "source": [
    "for destination in destinations:\n",
    "    geocode_params = {\n",
    "        'address': destination,\n",
    "        'key':api_key\n",
    "    }\n",
    "    geocode_response = requests.get(geocode_endpoint, params=geocode_params).json()\n",
    "    latitude = geocode_response['results'][0]['geometry']['location']['lat']\n",
    "    longitude = geocode_response['results'][0]['geometry']['location']['lng']\n",
    "\n",
    "    distance_params = {\n",
    "        'origins': 'Tel Aviv',\n",
    "        'destinations': destination,\n",
    "        'key':api_key\n",
    "    }\n",
    "    distance_response = requests.get(distance_endpoint, params=distance_params).json()\n",
    "    distance = distance_response['rows'][0]['elements'][0]['distance']['text']  \n",
    "    duration_minutes = distance_response['rows'][0]['elements'][0]['duration']['value']/60\n",
    "    \n",
    "    duration_hours = int(duration_minutes) // 60  \n",
    "    duration_minutes = duration_minutes % 60  \n",
    "    duration_minutes = math.ceil(duration_minutes)\n",
    "    \n",
    "    temp_df = pd.DataFrame({\n",
    "        'Target': [destination],\n",
    "        'Distance_km': [distance],\n",
    "        'Duration': [f\"{duration_hours} hour {duration_minutes} min\"],\n",
    "        'Longitude': [longitude],\n",
    "        'Latitude': [latitude]\n",
    "    })\n",
    "    \n",
    "    df = pd.concat([df, temp_df], ignore_index=True)\n",
    "    \n"
   ]
  },
  {
   "cell_type": "code",
   "execution_count": 39,
   "id": "4ce1fe5a-bca5-4ade-9641-bfd4d35add50",
   "metadata": {},
   "outputs": [
    {
     "data": {
      "text/html": [
       "<div>\n",
       "<style scoped>\n",
       "    .dataframe tbody tr th:only-of-type {\n",
       "        vertical-align: middle;\n",
       "    }\n",
       "\n",
       "    .dataframe tbody tr th {\n",
       "        vertical-align: top;\n",
       "    }\n",
       "\n",
       "    .dataframe thead th {\n",
       "        text-align: right;\n",
       "    }\n",
       "</style>\n",
       "<table border=\"1\" class=\"dataframe\">\n",
       "  <thead>\n",
       "    <tr style=\"text-align: right;\">\n",
       "      <th></th>\n",
       "      <th>Target</th>\n",
       "      <th>Distance_km</th>\n",
       "      <th>Duration</th>\n",
       "      <th>Longitude</th>\n",
       "      <th>Latitude</th>\n",
       "    </tr>\n",
       "  </thead>\n",
       "  <tbody>\n",
       "    <tr>\n",
       "      <th>0</th>\n",
       "      <td>Istanbul</td>\n",
       "      <td>1,815 km</td>\n",
       "      <td>21 hour 3 min</td>\n",
       "      <td>28.978359</td>\n",
       "      <td>41.008238</td>\n",
       "    </tr>\n",
       "    <tr>\n",
       "      <th>1</th>\n",
       "      <td>Amsterdam</td>\n",
       "      <td>4,533 km</td>\n",
       "      <td>48 hour 4 min</td>\n",
       "      <td>4.904139</td>\n",
       "      <td>52.367573</td>\n",
       "    </tr>\n",
       "    <tr>\n",
       "      <th>2</th>\n",
       "      <td>Valletta</td>\n",
       "      <td>3,793 km</td>\n",
       "      <td>50 hour 51 min</td>\n",
       "      <td>14.514100</td>\n",
       "      <td>35.899237</td>\n",
       "    </tr>\n",
       "    <tr>\n",
       "      <th>3</th>\n",
       "      <td>Basel</td>\n",
       "      <td>4,093 km</td>\n",
       "      <td>44 hour 3 min</td>\n",
       "      <td>7.588576</td>\n",
       "      <td>47.559599</td>\n",
       "    </tr>\n",
       "    <tr>\n",
       "      <th>4</th>\n",
       "      <td>Doha</td>\n",
       "      <td>2,164 km</td>\n",
       "      <td>22 hour 39 min</td>\n",
       "      <td>51.531040</td>\n",
       "      <td>25.285447</td>\n",
       "    </tr>\n",
       "  </tbody>\n",
       "</table>\n",
       "</div>"
      ],
      "text/plain": [
       "      Target Distance_km        Duration  Longitude   Latitude\n",
       "0   Istanbul    1,815 km   21 hour 3 min  28.978359  41.008238\n",
       "1  Amsterdam    4,533 km   48 hour 4 min   4.904139  52.367573\n",
       "2   Valletta    3,793 km  50 hour 51 min  14.514100  35.899237\n",
       "3      Basel    4,093 km   44 hour 3 min   7.588576  47.559599\n",
       "4       Doha    2,164 km  22 hour 39 min  51.531040  25.285447"
      ]
     },
     "execution_count": 39,
     "metadata": {},
     "output_type": "execute_result"
    }
   ],
   "source": [
    "df"
   ]
  },
  {
   "cell_type": "code",
   "execution_count": 42,
   "id": "5b3d017f-4029-4e66-ab19-1800a926d108",
   "metadata": {},
   "outputs": [
    {
     "data": {
      "text/html": [
       "<div>\n",
       "<style scoped>\n",
       "    .dataframe tbody tr th:only-of-type {\n",
       "        vertical-align: middle;\n",
       "    }\n",
       "\n",
       "    .dataframe tbody tr th {\n",
       "        vertical-align: top;\n",
       "    }\n",
       "\n",
       "    .dataframe thead th {\n",
       "        text-align: right;\n",
       "    }\n",
       "</style>\n",
       "<table border=\"1\" class=\"dataframe\">\n",
       "  <thead>\n",
       "    <tr style=\"text-align: right;\">\n",
       "      <th></th>\n",
       "      <th>Target</th>\n",
       "      <th>Distance_km</th>\n",
       "      <th>Duration</th>\n",
       "      <th>Longitude</th>\n",
       "      <th>Latitude</th>\n",
       "    </tr>\n",
       "  </thead>\n",
       "  <tbody>\n",
       "    <tr>\n",
       "      <th>1</th>\n",
       "      <td>Amsterdam</td>\n",
       "      <td>4,533 km</td>\n",
       "      <td>48 hour 4 min</td>\n",
       "      <td>4.904139</td>\n",
       "      <td>52.367573</td>\n",
       "    </tr>\n",
       "    <tr>\n",
       "      <th>3</th>\n",
       "      <td>Basel</td>\n",
       "      <td>4,093 km</td>\n",
       "      <td>44 hour 3 min</td>\n",
       "      <td>7.588576</td>\n",
       "      <td>47.559599</td>\n",
       "    </tr>\n",
       "    <tr>\n",
       "      <th>2</th>\n",
       "      <td>Valletta</td>\n",
       "      <td>3,793 km</td>\n",
       "      <td>50 hour 51 min</td>\n",
       "      <td>14.514100</td>\n",
       "      <td>35.899237</td>\n",
       "    </tr>\n",
       "  </tbody>\n",
       "</table>\n",
       "</div>"
      ],
      "text/plain": [
       "      Target Distance_km        Duration  Longitude   Latitude\n",
       "1  Amsterdam    4,533 km   48 hour 4 min   4.904139  52.367573\n",
       "3      Basel    4,093 km   44 hour 3 min   7.588576  47.559599\n",
       "2   Valletta    3,793 km  50 hour 51 min  14.514100  35.899237"
      ]
     },
     "execution_count": 42,
     "metadata": {},
     "output_type": "execute_result"
    }
   ],
   "source": [
    "df_3_furthest=df.sort_values(\"Distance_km\",ascending = False).head(3)\n",
    "df_3_furthest"
   ]
  }
 ],
 "metadata": {
  "kernelspec": {
   "display_name": "Python 3 (ipykernel)",
   "language": "python",
   "name": "python3"
  },
  "language_info": {
   "codemirror_mode": {
    "name": "ipython",
    "version": 3
   },
   "file_extension": ".py",
   "mimetype": "text/x-python",
   "name": "python",
   "nbconvert_exporter": "python",
   "pygments_lexer": "ipython3",
   "version": "3.10.9"
  }
 },
 "nbformat": 4,
 "nbformat_minor": 5
}
